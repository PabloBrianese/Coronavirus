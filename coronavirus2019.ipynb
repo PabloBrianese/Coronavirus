{
 "cells": [
  {
   "cell_type": "markdown",
   "metadata": {
    "colab_type": "text",
    "id": "G_w-x9vHLnwY"
   },
   "source": [
    "# Coronavirus en la Provincia de Buenos Aires\n",
    "Esta libreta está pensada para mostrar el desarrollo del coronavirus en la Provincia de Buenos Aires. La producción de los datos fue realizada por La Nación DATA y resulta en la publicación de [esta nota](https://www.lanacion.com.ar/sociedad/en-detalle-infectados-fallecidos-coronavirus-argentina-nid2350330#/). Obetemos acceso a los datos publicados en la misma analizando su red con las herramientas de desarrollador que proveen los navegadores (Mozilla Firefox, etcétera)."
   ]
  },
  {
   "cell_type": "markdown",
   "metadata": {
    "colab_type": "text",
    "id": "vgPTAOARN14X"
   },
   "source": [
    "# Índice\n",
    "\n",
    "0. [Librerías importadas]()\n",
    "1. [Pedido de los conjuntos de datos](https://colab.research.google.com/drive/1RaYiLLIXLbHXA4JXnFepJnf8u9hTUhMi#scrollTo=9oAV2xtAPMS3&line=1&uniqifier=1)\n",
    "2. [Inspección de los conjuntos de datos](https://colab.research.google.com/drive/1RaYiLLIXLbHXA4JXnFepJnf8u9hTUhMi#scrollTo=thf27V_MPiAJ&line=1&uniqifier=1)\n",
    "3. [Procesamiento y limpieza de los conjuntos de datos](https://colab.research.google.com/drive/1RaYiLLIXLbHXA4JXnFepJnf8u9hTUhMi#scrollTo=zyqGxRD2QEYn&line=1&uniqifier=1)\n",
    "4. [Nueva inspección de los conjuntos de datos](https://colab.research.google.com/drive/1RaYiLLIXLbHXA4JXnFepJnf8u9hTUhMi#scrollTo=tMXdMkf-QiZQ&line=1&uniqifier=1)\n",
    "5. [Análisis exploratorio de datos](https://colab.research.google.com/drive/1RaYiLLIXLbHXA4JXnFepJnf8u9hTUhMi#scrollTo=9Ee5zP9PRDqk&line=1&uniqifier=1)\n",
    "\n"
   ]
  },
  {
   "cell_type": "markdown",
   "metadata": {
    "colab_type": "text",
    "id": "dg2Rao80p-0-"
   },
   "source": [
    "# Librerías importadas\n",
    "Importamos las librerías que vamos a necesitar para poder trabajar."
   ]
  },
  {
   "cell_type": "code",
   "execution_count": 63,
   "metadata": {
    "colab": {},
    "colab_type": "code",
    "id": "qiDV_13gqGkM"
   },
   "outputs": [],
   "source": [
    "# HTTP\n",
    "import requests\n",
    "\n",
    "# Arreglos numéricos\n",
    "import numpy as np\n",
    "\n",
    "# Tablas con tipos de datos diversos\n",
    "import pandas as pd\n",
    "\n",
    "# Análisis exploratorio de datos\n",
    "import matplotlib.pyplot as plt\n",
    "pd.plotting.register_matplotlib_converters()  # necesario para que matplotlib procese tipos de datos de pandas\n",
    "import seaborn as sns\n",
    "sns.set_style('darkgrid')"
   ]
  },
  {
   "cell_type": "markdown",
   "metadata": {
    "colab_type": "text",
    "id": "ap1iZjzMtTG6"
   },
   "source": [
    "# Organización de los conjuntos de datos\n",
    "Para facilitar la manipulación de los datos usaremos una estructura de diccionario. De este modo, a cada conjunto de datos le asignaremos un diccionario que almacenará la URL de la que fué pedido, el mismo en formato JSON (lista de diccionarios), el mismo en formato DataFrame."
   ]
  },
  {
   "cell_type": "code",
   "execution_count": 64,
   "metadata": {
    "colab": {},
    "colab_type": "code",
    "id": "VZXJwGAWJwxl"
   },
   "outputs": [],
   "source": [
    "# Diccionarios con los conjuntos de datos\n",
    "totales_provincias_full = {'str':'totales_provincias_full'}\n",
    "totales_provincias_por_dia = {'str':'totales_provincias_por_dia'}\n",
    "indice_mortalidad = {'str':'indice_mortalidad'}\n",
    "amba = {'str':'amba'}\n",
    "factor_duplicidad_total_infectados_amba = {'str':'factor_duplicidad_total_infectados_amba'}\n",
    "factor_duplicidad_total_infectados_provincias_argentina_por_dia = {'str':'factor_duplicidad_total_infectados_provincias_argentina_por_dia'}\n",
    "\n",
    "# Este objeto ayudará a ordenar el procesamientos de los datos\n",
    "lista_datos = [\n",
    "    totales_provincias_full,\n",
    "    totales_provincias_por_dia,\n",
    "    indice_mortalidad,\n",
    "    amba,\n",
    "    factor_duplicidad_total_infectados_amba,\n",
    "    factor_duplicidad_total_infectados_provincias_argentina_por_dia,\n",
    "]"
   ]
  },
  {
   "cell_type": "markdown",
   "metadata": {
    "colab_type": "text",
    "id": "9oAV2xtAPMS3"
   },
   "source": [
    "# Pedido de los conjuntos de datos\n",
    "Usando las herramientas para desarrolladores que provee el navegador web (Mozilla Firefox, etcétera) e inspeccionando la red de la página web de la nota, podemos encontrar las URL de los conjuntos de datos."
   ]
  },
  {
   "cell_type": "code",
   "execution_count": 65,
   "metadata": {
    "colab": {},
    "colab_type": "code",
    "id": "f0ikZzJEJwxn"
   },
   "outputs": [],
   "source": [
    "# URLs obtenidas del análisis de la página web\n",
    "raiz = 'https://especialess3.lanacion.com.ar/coronavirus_admin/jsons/'\n",
    "for dato in lista_datos:\n",
    "  dato['json_url'] = raiz + dato['str'] + '.json'"
   ]
  },
  {
   "cell_type": "code",
   "execution_count": 66,
   "metadata": {
    "colab": {},
    "colab_type": "code",
    "id": "jPj2asNOJwxq"
   },
   "outputs": [],
   "source": [
    "# Pedimos los conjuntos de datos y extraemos los archivos JSON\n",
    "for dato in lista_datos:\n",
    "    with requests.get(dato['json_url']) as respuesta:\n",
    "        dato['json'] = respuesta.json()"
   ]
  },
  {
   "cell_type": "markdown",
   "metadata": {
    "colab_type": "text",
    "id": "thf27V_MPiAJ"
   },
   "source": [
    "# Inspección de los conjuntos de datos\n",
    "Para hacernos una idea de lo que manejamos miramos algunas propiedades estructurales"
   ]
  },
  {
   "cell_type": "code",
   "execution_count": 67,
   "metadata": {
    "colab": {
     "base_uri": "https://localhost:8080/",
     "height": 115
    },
    "colab_type": "code",
    "executionInfo": {
     "elapsed": 3799,
     "status": "ok",
     "timestamp": 1593297835014,
     "user": {
      "displayName": "Pablo Brianese",
      "photoUrl": "",
      "userId": "13690379485214446068"
     },
     "user_tz": 180
    },
    "id": "qFpju_fdJwxs",
    "outputId": "0c01ede6-f0a6-4ca3-a4f3-6eb02da2b0ee"
   },
   "outputs": [
    {
     "name": "stdout",
     "output_type": "stream",
     "text": [
      "<class 'list'> {<class 'dict'>}\n",
      "<class 'list'> {<class 'dict'>}\n",
      "<class 'list'> {<class 'dict'>}\n",
      "<class 'list'> {<class 'dict'>}\n",
      "<class 'list'> {<class 'dict'>}\n",
      "<class 'dict'> {<class 'str'>}\n"
     ]
    }
   ],
   "source": [
    "# Inspeccionamos los conjuntos de datos obtenidos y su estructura interna\n",
    "for dato in lista_datos:\n",
    "    print(\n",
    "        type(dato['json']),\n",
    "        set([type(elemento) for elemento in dato['json']])\n",
    "    )"
   ]
  },
  {
   "cell_type": "markdown",
   "metadata": {
    "colab_type": "text",
    "id": "TSbGaOVUGQVd"
   },
   "source": [
    "El elemento ```factor_duplicidad_total_infectados_provincias_argentina_por_dia``` no viene en formato lista-de-diccionarios.\n",
    "\n"
   ]
  },
  {
   "cell_type": "code",
   "execution_count": 68,
   "metadata": {
    "colab": {
     "base_uri": "https://localhost:8080/",
     "height": 98
    },
    "colab_type": "code",
    "executionInfo": {
     "elapsed": 3793,
     "status": "ok",
     "timestamp": 1593297835015,
     "user": {
      "displayName": "Pablo Brianese",
      "photoUrl": "",
      "userId": "13690379485214446068"
     },
     "user_tz": 180
    },
    "id": "nB-W91tAHkuZ",
    "outputId": "b14da431-63d7-41f9-b9cd-53df5a9f7c0e"
   },
   "outputs": [
    {
     "name": "stdout",
     "output_type": "stream",
     "text": [
      "Tipo del conjunto de datos: <class 'dict'>\n",
      "Claves del diccionario: \n",
      " dict_keys(['Buenos Aires', 'CABA', 'Chaco', 'Chubut', 'Córdoba', 'Corrientes', 'Entre Ríos', 'Formosa', 'Jujuy', 'La Rioja', 'Mendoza', 'Neuquén', 'Río Negro', 'Santa Fe', 'Tierra del Fuego', 'Tucumán'])\n",
      "Los valores correspondientes a las claves son de tipo: {<class 'list'>}\n",
      "Cada elemento de estas listas es de tipo: {<class 'dict'>}\n"
     ]
    }
   ],
   "source": [
    "dicc = factor_duplicidad_total_infectados_provincias_argentina_por_dia['json']\n",
    "\n",
    "# Los datos están organizados dentro de un diccionario\n",
    "print(\n",
    "    'Tipo del conjunto de datos:', type(dicc)\n",
    ")\n",
    "# Según la provincia a la que se refieren\n",
    "print(\n",
    "    'Claves del diccionario:', '\\n', dicc.keys()\n",
    ")\n",
    "# Para cada provincia tenemos una lista\n",
    "print(\n",
    "    'Los valores correspondientes a las claves son de tipo:',\n",
    "    set([\n",
    "         type(dicc[provincia]) for provincia in dicc.keys()\n",
    "    ])\n",
    ")\n",
    "# y estas listas están formadas por diccionarios\n",
    "print(\n",
    "    'Cada elemento de estas listas es de tipo:',\n",
    "    set([\n",
    "      type(elemento) for provincia in dicc.keys() for elemento in dicc[provincia]\n",
    "    ])\n",
    ")"
   ]
  },
  {
   "cell_type": "markdown",
   "metadata": {
    "colab_type": "text",
    "id": "LcdmDV10RCN9"
   },
   "source": [
    "Luego, para cada provincia tenemos una lista de diccionarios con las siguientes variables"
   ]
  },
  {
   "cell_type": "code",
   "execution_count": 69,
   "metadata": {
    "colab": {
     "base_uri": "https://localhost:8080/",
     "height": 33
    },
    "colab_type": "code",
    "executionInfo": {
     "elapsed": 3785,
     "status": "ok",
     "timestamp": 1593297835015,
     "user": {
      "displayName": "Pablo Brianese",
      "photoUrl": "",
      "userId": "13690379485214446068"
     },
     "user_tz": 180
    },
    "id": "d_vpo8dDRUqw",
    "outputId": "da7dfdf2-9a70-472b-8b4b-ddb1b72f0471"
   },
   "outputs": [
    {
     "data": {
      "text/plain": [
       "{('fecha', 'factor_de_crecimiento', 'duplicacion')}"
      ]
     },
     "execution_count": 69,
     "metadata": {},
     "output_type": "execute_result"
    }
   ],
   "source": [
    "set([\n",
    "     tuple(elemento.keys()) for provincia in dicc.keys()\n",
    "                            for elemento in dicc[provincia]\n",
    "])"
   ]
  },
  {
   "cell_type": "markdown",
   "metadata": {
    "colab_type": "text",
    "id": "xb61K6sH8dF0"
   },
   "source": [
    "Sin embargo, si miramos la longitud de estas listas, es decir la cantidad de observaciones para cada provincia, vemos que la situación es muy dispar. Esta debe ser la razón de la organización de los datos en un diccionario de JSONs."
   ]
  },
  {
   "cell_type": "code",
   "execution_count": 70,
   "metadata": {
    "colab": {
     "base_uri": "https://localhost:8080/",
     "height": 245
    },
    "colab_type": "code",
    "executionInfo": {
     "elapsed": 3777,
     "status": "ok",
     "timestamp": 1593297835016,
     "user": {
      "displayName": "Pablo Brianese",
      "photoUrl": "",
      "userId": "13690379485214446068"
     },
     "user_tz": 180
    },
    "id": "C7wydg5D8rBB",
    "outputId": "8a1ba6e6-4a26-40e4-d875-e771a98e8cce"
   },
   "outputs": [
    {
     "name": "stdout",
     "output_type": "stream",
     "text": [
      "105 \t Buenos Aires\n",
      "107 \t CABA\n",
      "99 \t Chaco\n",
      "18 \t Chubut\n",
      "98 \t Córdoba\n",
      "55 \t Corrientes\n",
      "24 \t Entre Ríos\n",
      "9 \t Formosa\n",
      "9 \t Jujuy\n",
      "12 \t La Rioja\n",
      "80 \t Mendoza\n",
      "88 \t Neuquén\n",
      "85 \t Río Negro\n",
      "99 \t Santa Fe\n",
      "92 \t Tierra del Fuego\n",
      "11 \t Tucumán\n"
     ]
    }
   ],
   "source": [
    "for provincia in dicc.keys():\n",
    "  print(\n",
    "      len(dicc[provincia]), '\\t', provincia\n",
    "  )"
   ]
  },
  {
   "cell_type": "markdown",
   "metadata": {
    "colab_type": "text",
    "id": "g4rDgnGyVuVT"
   },
   "source": [
    "Luego, concluímos que el archivo ```factor_duplicidad_total_infectados_provincias_argentina_por_dia``` \n",
    "es un diccionario cuyos elementos están en formato JSON (lista de diccionarios), y que estos son muy dispares entre sí. Vamos a exeptuar a este conjunto del análisis por el momento.\n"
   ]
  },
  {
   "cell_type": "code",
   "execution_count": 71,
   "metadata": {
    "colab": {},
    "colab_type": "code",
    "id": "OQuLst5vuJJc"
   },
   "outputs": [],
   "source": [
    "## PUEDO COMENTAR ESTA SECCIÓN HASTA SABER QUÉ HACER CON ESTOS DATOS?\n",
    "#Comenzamos solucionando la diferencia de formato en el último conjunto de datos\n",
    "#\n",
    "#dato_problematico = factor_duplicidad_total_infectados_provincias_argentina_por_dia\n",
    "#\n",
    "#print(\n",
    "#    dato_problematico.keys()\n",
    "#)\n",
    "#\n",
    "#dato_problematico['dict_of_jsons'] = dato_problematico['json']\n",
    "#del(dato_problematico['json'])\n",
    "#\n",
    "#print(\n",
    "#    dato.keys()\n",
    "#)\n",
    "#\n",
    "#Vamos a llevar esta estructura a formato JSON, transformando la provincia en una variable.\n",
    "#\n",
    "## Tomamos los datos en el formato en que llegaron\n",
    "#dicc = dato_problematico['dict_of_jsons']\n",
    "## En concordancia con el formato JSON los datos se estructurarán en una lista\n",
    "#dato_problematico['json'] = []\n",
    "#\n",
    "#for provincia in dicc.keys():\n",
    "#  lista = dicc[provincia]\n",
    "#\n",
    "#  for observacion in lista:\n",
    "#    # En concordancia con el formato JSON las observaciones serán diccionarios\n",
    "#    nueva_observacion = {}\n",
    "#    # La provincia a la que se refieren las observaciones será una variable\n",
    "#    nueva_observacion['provincia'] = provincia\n",
    "#\n",
    "#    for variable in observacion.keys():\n",
    "#      # Y las nuevas observaciones heredan las viejas variables\n",
    "#      nueva_observacion[variable] = observacion[variable]\n",
    "#\n",
    "#    dato_problematico['json'].append(nueva_observacion)\n",
    "#\n",
    "#print(\n",
    "#      type(dato_problematico['json']),\n",
    "#      set([type(elemento) for elemento in dato['json']])\n",
    "#)\n",
    "#\n",
    "#print(\n",
    "#    dato_problematico['json'][0:3]\n",
    "#)"
   ]
  },
  {
   "cell_type": "markdown",
   "metadata": {
    "colab_type": "text",
    "id": "zyqGxRD2QEYn"
   },
   "source": [
    "# Procesamiento y limpieza de los datos\n"
   ]
  },
  {
   "cell_type": "markdown",
   "metadata": {
    "colab_type": "text",
    "id": "h7ugWSv6oqQg"
   },
   "source": [
    "Usando la librería ```pandas``` generamos marcos de datos a partir de las listas de diccionarios"
   ]
  },
  {
   "cell_type": "code",
   "execution_count": 72,
   "metadata": {
    "colab": {},
    "colab_type": "code",
    "id": "7NStynZhJwxw"
   },
   "outputs": [],
   "source": [
    "# Datos en formato JSON\n",
    "datos_json = lista_datos[0:-1]\n",
    "\n",
    "# Procesamos los conjuntos de datos\n",
    "for dato in datos_json:\n",
    "    dato['df'] = pd.DataFrame(dato['json'])"
   ]
  },
  {
   "cell_type": "markdown",
   "metadata": {
    "colab_type": "text",
    "id": "HlRM5RUkXEIz"
   },
   "source": [
    "Esto nos permite verlos más cómodamente"
   ]
  },
  {
   "cell_type": "code",
   "execution_count": 73,
   "metadata": {
    "colab": {
     "base_uri": "https://localhost:8080/",
     "height": 602
    },
    "colab_type": "code",
    "executionInfo": {
     "elapsed": 3753,
     "status": "ok",
     "timestamp": 1593297835017,
     "user": {
      "displayName": "Pablo Brianese",
      "photoUrl": "",
      "userId": "13690379485214446068"
     },
     "user_tz": 180
    },
    "id": "SVPJUYKpXJpY",
    "outputId": "3da5dfa3-4c23-46a2-9d4d-7e3b3bcfb944"
   },
   "outputs": [
    {
     "name": "stdout",
     "output_type": "stream",
     "text": [
      "totales_provincias_full\n",
      "    Provincia provincia-key  Afectados  Muertos  Recuperados  \\\n",
      "0      Chubut        chubut        114        1            0   \n",
      "1     Córdoba       cordoba        630       38           93   \n",
      "2  Corrientes    corrientes        115        0           34   \n",
      "\n",
      "   Infectados actuales ultima-actualizacion  \n",
      "0                  113           27/06/2020  \n",
      "1                  499           27/06/2020  \n",
      "2                   81           27/06/2020   \n",
      "\n",
      "totales_provincias_por_dia\n",
      "        Fecha  Afectados  Fallecidos   Provincia  Afectados_Promedio  \\\n",
      "0  03/03/2020          0           0      Chubut                 0.0   \n",
      "1  03/03/2020          0           0     Córdoba                 0.0   \n",
      "2  03/03/2020          0           0  Corrientes                 0.0   \n",
      "\n",
      "   Fallecidos_Promedio  Afectados_Acumulados  Muertos_Acumulados  \n",
      "0                  0.0                     0                   0  \n",
      "1                  0.0                     0                   0  \n",
      "2                  0.0                     0                   0   \n",
      "\n",
      "indice_mortalidad\n",
      "         Día     Region  Infectados  Muertos  Recuperados  \\\n",
      "0  28/6/2020  Argentina       57744     1217        20134   \n",
      "1  28/6/2020     Italia      240310    34738       188891   \n",
      "2  28/6/2020     España      295850    28343       150376   \n",
      "\n",
      "   Diferencia Infectados respecto día anterior mismo país  \\\n",
      "0                                              56611        \n",
      "1                                                174        \n",
      "2                                                301        \n",
      "\n",
      "   Diferencia Muertos respecto día anterior mismo país  \\\n",
      "0                                               1184     \n",
      "1                                                 22     \n",
      "2                                                  2     \n",
      "\n",
      "   Diferencia Recuperados respecto día anterior mismo país  \n",
      "0                                              19989        \n",
      "1                                                307        \n",
      "2                                                  0         \n",
      "\n",
      "amba\n",
      "        Fecha  Afectados  Afectados_Promedio\n",
      "0  03/03/2020          0                   0\n",
      "1  04/03/2020          0                   0\n",
      "2  05/03/2020          1                   0 \n",
      "\n",
      "factor_duplicidad_total_infectados_amba\n",
      "        fecha factor_de_crecimiento  duplicacion\n",
      "0  2020-03-10           1.389495495  2.107209968\n",
      "1  2020-03-11           1.408543889  2.023453782\n",
      "2  2020-03-12           1.457916250  1.838546743 \n",
      "\n"
     ]
    }
   ],
   "source": [
    "for dato in datos_json:\n",
    "  print(dato['str'])\n",
    "  print(\n",
    "      dato['df'].head(3), '\\n'\n",
    "  )"
   ]
  },
  {
   "cell_type": "code",
   "execution_count": 74,
   "metadata": {
    "colab": {
     "base_uri": "https://localhost:8080/",
     "height": 1000
    },
    "colab_type": "code",
    "executionInfo": {
     "elapsed": 3744,
     "status": "ok",
     "timestamp": 1593297835018,
     "user": {
      "displayName": "Pablo Brianese",
      "photoUrl": "",
      "userId": "13690379485214446068"
     },
     "user_tz": 180
    },
    "id": "0HblXrPuXcel",
    "outputId": "845b140a-f91b-4406-9584-da628944b294"
   },
   "outputs": [
    {
     "name": "stdout",
     "output_type": "stream",
     "text": [
      "totales_provincias_full\n",
      "<class 'pandas.core.frame.DataFrame'>\n",
      "RangeIndex: 25 entries, 0 to 24\n",
      "Data columns (total 7 columns):\n",
      " #   Column                Non-Null Count  Dtype \n",
      "---  ------                --------------  ----- \n",
      " 0   Provincia             25 non-null     object\n",
      " 1   provincia-key         25 non-null     object\n",
      " 2   Afectados             25 non-null     int64 \n",
      " 3   Muertos               25 non-null     int64 \n",
      " 4   Recuperados           25 non-null     int64 \n",
      " 5   Infectados actuales   25 non-null     int64 \n",
      " 6   ultima-actualizacion  25 non-null     object\n",
      "dtypes: int64(4), object(3)\n",
      "memory usage: 1.5+ KB\n",
      "None \n",
      "\n",
      "totales_provincias_por_dia\n",
      "<class 'pandas.core.frame.DataFrame'>\n",
      "RangeIndex: 2925 entries, 0 to 2924\n",
      "Data columns (total 8 columns):\n",
      " #   Column                Non-Null Count  Dtype  \n",
      "---  ------                --------------  -----  \n",
      " 0   Fecha                 2925 non-null   object \n",
      " 1   Afectados             2925 non-null   int64  \n",
      " 2   Fallecidos            2925 non-null   int64  \n",
      " 3   Provincia             2925 non-null   object \n",
      " 4   Afectados_Promedio    2925 non-null   float64\n",
      " 5   Fallecidos_Promedio   2925 non-null   float64\n",
      " 6   Afectados_Acumulados  2925 non-null   int64  \n",
      " 7   Muertos_Acumulados    2925 non-null   int64  \n",
      "dtypes: float64(2), int64(4), object(2)\n",
      "memory usage: 182.9+ KB\n",
      "None \n",
      "\n",
      "indice_mortalidad\n",
      "<class 'pandas.core.frame.DataFrame'>\n",
      "RangeIndex: 4 entries, 0 to 3\n",
      "Data columns (total 8 columns):\n",
      " #   Column                                                   Non-Null Count  Dtype \n",
      "---  ------                                                   --------------  ----- \n",
      " 0   Día                                                      4 non-null      object\n",
      " 1   Region                                                   4 non-null      object\n",
      " 2   Infectados                                               4 non-null      int64 \n",
      " 3   Muertos                                                  4 non-null      int64 \n",
      " 4   Recuperados                                              4 non-null      int64 \n",
      " 5   Diferencia Infectados respecto día anterior mismo país   4 non-null      int64 \n",
      " 6   Diferencia Muertos respecto día anterior mismo país      4 non-null      int64 \n",
      " 7   Diferencia Recuperados respecto día anterior mismo país  4 non-null      int64 \n",
      "dtypes: int64(6), object(2)\n",
      "memory usage: 384.0+ bytes\n",
      "None \n",
      "\n",
      "amba\n",
      "<class 'pandas.core.frame.DataFrame'>\n",
      "RangeIndex: 117 entries, 0 to 116\n",
      "Data columns (total 3 columns):\n",
      " #   Column              Non-Null Count  Dtype \n",
      "---  ------              --------------  ----- \n",
      " 0   Fecha               117 non-null    object\n",
      " 1   Afectados           117 non-null    int64 \n",
      " 2   Afectados_Promedio  117 non-null    int64 \n",
      "dtypes: int64(2), object(1)\n",
      "memory usage: 2.9+ KB\n",
      "None \n",
      "\n",
      "factor_duplicidad_total_infectados_amba\n",
      "<class 'pandas.core.frame.DataFrame'>\n",
      "RangeIndex: 99 entries, 0 to 98\n",
      "Data columns (total 3 columns):\n",
      " #   Column                 Non-Null Count  Dtype \n",
      "---  ------                 --------------  ----- \n",
      " 0   fecha                  99 non-null     object\n",
      " 1   factor_de_crecimiento  99 non-null     object\n",
      " 2   duplicacion            99 non-null     object\n",
      "dtypes: object(3)\n",
      "memory usage: 2.4+ KB\n",
      "None \n",
      "\n"
     ]
    }
   ],
   "source": [
    "for dato in datos_json:\n",
    "  print(dato['str'])\n",
    "  print(\n",
    "      dato['df'].info(), '\\n'\n",
    "  )"
   ]
  },
  {
   "cell_type": "markdown",
   "metadata": {
    "colab_type": "text",
    "id": "3TvkkdSUjJyF"
   },
   "source": [
    "Las variables con valores enteros recibieron los tipos correctos. Las fechas, categorías y números reales recibieron el tipo ```object```. Tenemos que corregir esto."
   ]
  },
  {
   "cell_type": "code",
   "execution_count": 75,
   "metadata": {
    "colab": {
     "base_uri": "https://localhost:8080/",
     "height": 228
    },
    "colab_type": "code",
    "executionInfo": {
     "elapsed": 3734,
     "status": "ok",
     "timestamp": 1593297835018,
     "user": {
      "displayName": "Pablo Brianese",
      "photoUrl": "",
      "userId": "13690379485214446068"
     },
     "user_tz": 180
    },
    "id": "ZKcX57MU0SEZ",
    "outputId": "a8822434-ebbf-408d-bc90-cc5f88810ba4"
   },
   "outputs": [
    {
     "name": "stdout",
     "output_type": "stream",
     "text": [
      "Index(['Provincia', 'provincia-key', 'Afectados', 'Muertos', 'Recuperados',\n",
      "       'Infectados actuales', 'ultima-actualizacion'],\n",
      "      dtype='object')\n",
      "Index(['Fecha', 'Afectados', 'Fallecidos', 'Provincia', 'Afectados_Promedio',\n",
      "       'Fallecidos_Promedio', 'Afectados_Acumulados', 'Muertos_Acumulados'],\n",
      "      dtype='object')\n",
      "Index(['Día', 'Region', 'Infectados', 'Muertos', 'Recuperados',\n",
      "       'Diferencia Infectados respecto día anterior mismo país',\n",
      "       'Diferencia Muertos respecto día anterior mismo país',\n",
      "       'Diferencia Recuperados respecto día anterior mismo país'],\n",
      "      dtype='object')\n",
      "Index(['Fecha', 'Afectados', 'Afectados_Promedio'], dtype='object')\n",
      "Index(['fecha', 'factor_de_crecimiento', 'duplicacion'], dtype='object')\n"
     ]
    }
   ],
   "source": [
    "for dato in datos_json:\n",
    "  print(\n",
    "      dato['df'].keys()\n",
    "  )"
   ]
  },
  {
   "cell_type": "code",
   "execution_count": 76,
   "metadata": {
    "colab": {},
    "colab_type": "code",
    "id": "NgT9P_aC0u56"
   },
   "outputs": [],
   "source": [
    "lista_datos_datetime_forwardslash_dmY = [totales_provincias_full, totales_provincias_por_dia, indice_mortalidad, amba]\n",
    "lista_datos_datetime_score_Ymd = [factor_duplicidad_total_infectados_amba]\n",
    "lista_variables_datetime = ['fecha', 'día', 'ultima-actualizacion']\n",
    "\n",
    "for dato in lista_datos_datetime_forwardslash_dmY:\n",
    "  df = dato['df']\n",
    "  for col in df.columns:\n",
    "    if df[col].dtype == 'object':\n",
    "      # Llevamos las fechas al tipo datetime\n",
    "      if col.lower() in lista_variables_datetime:\n",
    "        df[col] = pd.to_datetime(df[col], format=\"%d/%m/%Y\")\n",
    "\n",
    "for dato in lista_datos_datetime_score_Ymd:\n",
    "  df = dato['df']\n",
    "  for col in df.columns:\n",
    "    if df[col].dtype == 'object':\n",
    "      # Llevamos las fechas al tipo datetime\n",
    "      if col.lower() in lista_variables_datetime:\n",
    "        df[col] = pd.to_datetime(df[col], format=\"%Y-%m-%d\")"
   ]
  },
  {
   "cell_type": "code",
   "execution_count": 77,
   "metadata": {
    "colab": {},
    "colab_type": "code",
    "id": "jE-2_tclytXH"
   },
   "outputs": [],
   "source": [
    "lista_category = ['provincia', 'provincia-key', 'region']\n",
    "lista_float = ['factor_de_crecimiento', 'duplicacion']\n",
    "\n",
    "for dato in datos_json:\n",
    "  df = dato['df']\n",
    "  for col in df.columns:\n",
    "    if df[col].dtype == 'object':\n",
    "      # Llevamos las categorías al tipo category\n",
    "      if col.lower() in lista_category:\n",
    "        df[col] = df[col].astype('category')\n",
    "      # Llevamos las variables reales al tipo float\n",
    "      elif col.lower() in lista_float:\n",
    "        df[col] = df[col].astype('float64')"
   ]
  },
  {
   "cell_type": "code",
   "execution_count": 78,
   "metadata": {
    "colab": {
     "base_uri": "https://localhost:8080/",
     "height": 1000
    },
    "colab_type": "code",
    "executionInfo": {
     "elapsed": 3720,
     "status": "ok",
     "timestamp": 1593297835019,
     "user": {
      "displayName": "Pablo Brianese",
      "photoUrl": "",
      "userId": "13690379485214446068"
     },
     "user_tz": 180
    },
    "id": "dvaL4JQh7q3m",
    "outputId": "5ff8d644-0826-4e5e-8419-c04fc3946570"
   },
   "outputs": [
    {
     "name": "stdout",
     "output_type": "stream",
     "text": [
      "totales_provincias_full\n",
      "   ultima-actualizacion\n",
      "0            2020-06-27\n",
      "1            2020-06-27\n",
      "2            2020-06-27\n",
      "3            2020-06-27\n",
      "4            2020-06-27\n",
      "5            2020-06-27\n",
      "6            2020-06-27\n",
      "7            2020-06-27\n",
      "8            2020-06-27\n",
      "9            2020-06-27\n",
      "10           2020-06-27\n",
      "11           2020-06-27\n",
      "12           2020-06-27\n",
      "13           2020-06-27\n",
      "14           2020-06-27\n",
      "15           2020-06-27\n",
      "16           2020-06-27\n",
      "17           2020-06-27\n",
      "18           2020-06-27\n",
      "19           2020-06-27\n",
      "20           2020-06-27\n",
      "21           2020-06-27\n",
      "22           2020-06-27\n",
      "23           2020-06-27\n",
      "24           2020-06-27 \n",
      "\n",
      "totales_provincias_por_dia\n",
      "          Fecha\n",
      "0    2020-03-03\n",
      "1    2020-03-03\n",
      "2    2020-03-03\n",
      "3    2020-03-03\n",
      "4    2020-03-03\n",
      "...         ...\n",
      "2920 2020-06-27\n",
      "2921 2020-06-27\n",
      "2922 2020-06-27\n",
      "2923 2020-06-27\n",
      "2924 2020-06-27\n",
      "\n",
      "[2925 rows x 1 columns] \n",
      "\n",
      "indice_mortalidad\n",
      "         Día\n",
      "0 2020-06-28\n",
      "1 2020-06-28\n",
      "2 2020-06-28\n",
      "3 2020-06-28 \n",
      "\n",
      "amba\n",
      "         Fecha\n",
      "0   2020-03-03\n",
      "1   2020-03-04\n",
      "2   2020-03-05\n",
      "3   2020-03-06\n",
      "4   2020-03-07\n",
      "..         ...\n",
      "112 2020-06-23\n",
      "113 2020-06-24\n",
      "114 2020-06-25\n",
      "115 2020-06-26\n",
      "116 2020-06-27\n",
      "\n",
      "[117 rows x 1 columns] \n",
      "\n",
      "factor_duplicidad_total_infectados_amba\n",
      "        fecha\n",
      "0  2020-03-10\n",
      "1  2020-03-11\n",
      "2  2020-03-12\n",
      "3  2020-03-13\n",
      "4  2020-03-14\n",
      "..        ...\n",
      "94 2020-06-12\n",
      "95 2020-06-13\n",
      "96 2020-06-14\n",
      "97 2020-06-15\n",
      "98 2020-06-16\n",
      "\n",
      "[99 rows x 1 columns] \n",
      "\n"
     ]
    }
   ],
   "source": [
    "for dato in datos_json:\n",
    "  print(\n",
    "      dato['str']\n",
    "  )\n",
    "  df = dato['df']\n",
    "  print(\n",
    "      df.select_dtypes(include='datetime64'), \n",
    "      '\\n'\n",
    "  )"
   ]
  },
  {
   "cell_type": "markdown",
   "metadata": {
    "colab_type": "text",
    "id": "23q9ebzO4XF1"
   },
   "source": [
    "Volvemos a inspeccionar los datos"
   ]
  },
  {
   "cell_type": "code",
   "execution_count": 79,
   "metadata": {
    "colab": {
     "base_uri": "https://localhost:8080/",
     "height": 1000
    },
    "colab_type": "code",
    "executionInfo": {
     "elapsed": 4065,
     "status": "ok",
     "timestamp": 1593297835371,
     "user": {
      "displayName": "Pablo Brianese",
      "photoUrl": "",
      "userId": "13690379485214446068"
     },
     "user_tz": 180
    },
    "id": "sFGy8k2t4ZMo",
    "outputId": "35903133-b417-4391-dae3-32f4aa8c2a72"
   },
   "outputs": [
    {
     "name": "stdout",
     "output_type": "stream",
     "text": [
      "totales_provincias_full\n",
      "<class 'pandas.core.frame.DataFrame'>\n",
      "RangeIndex: 25 entries, 0 to 24\n",
      "Data columns (total 7 columns):\n",
      " #   Column                Non-Null Count  Dtype         \n",
      "---  ------                --------------  -----         \n",
      " 0   Provincia             25 non-null     category      \n",
      " 1   provincia-key         25 non-null     category      \n",
      " 2   Afectados             25 non-null     int64         \n",
      " 3   Muertos               25 non-null     int64         \n",
      " 4   Recuperados           25 non-null     int64         \n",
      " 5   Infectados actuales   25 non-null     int64         \n",
      " 6   ultima-actualizacion  25 non-null     datetime64[ns]\n",
      "dtypes: category(2), datetime64[ns](1), int64(4)\n",
      "memory usage: 2.8 KB\n",
      "None \n",
      "\n",
      "totales_provincias_por_dia\n",
      "<class 'pandas.core.frame.DataFrame'>\n",
      "RangeIndex: 2925 entries, 0 to 2924\n",
      "Data columns (total 8 columns):\n",
      " #   Column                Non-Null Count  Dtype         \n",
      "---  ------                --------------  -----         \n",
      " 0   Fecha                 2925 non-null   datetime64[ns]\n",
      " 1   Afectados             2925 non-null   int64         \n",
      " 2   Fallecidos            2925 non-null   int64         \n",
      " 3   Provincia             2925 non-null   category      \n",
      " 4   Afectados_Promedio    2925 non-null   float64       \n",
      " 5   Fallecidos_Promedio   2925 non-null   float64       \n",
      " 6   Afectados_Acumulados  2925 non-null   int64         \n",
      " 7   Muertos_Acumulados    2925 non-null   int64         \n",
      "dtypes: category(1), datetime64[ns](1), float64(2), int64(4)\n",
      "memory usage: 163.8 KB\n",
      "None \n",
      "\n",
      "indice_mortalidad\n",
      "<class 'pandas.core.frame.DataFrame'>\n",
      "RangeIndex: 4 entries, 0 to 3\n",
      "Data columns (total 8 columns):\n",
      " #   Column                                                   Non-Null Count  Dtype         \n",
      "---  ------                                                   --------------  -----         \n",
      " 0   Día                                                      4 non-null      datetime64[ns]\n",
      " 1   Region                                                   4 non-null      category      \n",
      " 2   Infectados                                               4 non-null      int64         \n",
      " 3   Muertos                                                  4 non-null      int64         \n",
      " 4   Recuperados                                              4 non-null      int64         \n",
      " 5   Diferencia Infectados respecto día anterior mismo país   4 non-null      int64         \n",
      " 6   Diferencia Muertos respecto día anterior mismo país      4 non-null      int64         \n",
      " 7   Diferencia Recuperados respecto día anterior mismo país  4 non-null      int64         \n",
      "dtypes: category(1), datetime64[ns](1), int64(6)\n",
      "memory usage: 548.0 bytes\n",
      "None \n",
      "\n",
      "amba\n",
      "<class 'pandas.core.frame.DataFrame'>\n",
      "RangeIndex: 117 entries, 0 to 116\n",
      "Data columns (total 3 columns):\n",
      " #   Column              Non-Null Count  Dtype         \n",
      "---  ------              --------------  -----         \n",
      " 0   Fecha               117 non-null    datetime64[ns]\n",
      " 1   Afectados           117 non-null    int64         \n",
      " 2   Afectados_Promedio  117 non-null    int64         \n",
      "dtypes: datetime64[ns](1), int64(2)\n",
      "memory usage: 2.9 KB\n",
      "None \n",
      "\n",
      "factor_duplicidad_total_infectados_amba\n",
      "<class 'pandas.core.frame.DataFrame'>\n",
      "RangeIndex: 99 entries, 0 to 98\n",
      "Data columns (total 3 columns):\n",
      " #   Column                 Non-Null Count  Dtype         \n",
      "---  ------                 --------------  -----         \n",
      " 0   fecha                  99 non-null     datetime64[ns]\n",
      " 1   factor_de_crecimiento  99 non-null     float64       \n",
      " 2   duplicacion            99 non-null     float64       \n",
      "dtypes: datetime64[ns](1), float64(2)\n",
      "memory usage: 2.4 KB\n",
      "None \n",
      "\n"
     ]
    }
   ],
   "source": [
    "for dato in datos_json:\n",
    "  print(dato['str'])\n",
    "  print(dato['df'].info(), '\\n')"
   ]
  },
  {
   "cell_type": "markdown",
   "metadata": {
    "colab_type": "text",
    "id": "p5D2tWDWUo2y"
   },
   "source": [
    "Teniendo los tipos de datos correctos, llamamos al método ```describe```."
   ]
  },
  {
   "cell_type": "code",
   "execution_count": 80,
   "metadata": {
    "colab": {
     "base_uri": "https://localhost:8080/",
     "height": 976
    },
    "colab_type": "code",
    "executionInfo": {
     "elapsed": 4058,
     "status": "ok",
     "timestamp": 1593297835374,
     "user": {
      "displayName": "Pablo Brianese",
      "photoUrl": "",
      "userId": "13690379485214446068"
     },
     "user_tz": 180
    },
    "id": "oCT4WM91UojY",
    "outputId": "a9ba0830-3448-4750-f59d-db8c59c90775"
   },
   "outputs": [
    {
     "name": "stdout",
     "output_type": "stream",
     "text": [
      "totales_provincias_full\n",
      "          Afectados     Muertos  Recuperados  Infectados actuales\n",
      "count     25.000000   25.000000    25.000000            25.000000\n",
      "mean    2309.760000   48.680000   805.360000          1455.720000\n",
      "std     7204.499053  137.779631  2202.792449          5708.276729\n",
      "min        0.000000    0.000000     0.000000         -6897.000000\n",
      "25%       27.000000    0.000000     5.000000            21.000000\n",
      "50%       76.000000    1.000000    20.000000            71.000000\n",
      "75%      411.000000   10.000000    77.000000           243.000000\n",
      "max    27760.000000  538.000000  8228.000000         23058.000000 \n",
      "\n",
      "totales_provincias_por_dia\n",
      "         Afectados   Fallecidos  Afectados_Promedio  Fallecidos_Promedio  \\\n",
      "count  2925.000000  2925.000000         2925.000000          2925.000000   \n",
      "mean     19.741538     0.416068           17.109768             0.383357   \n",
      "std     109.632592     1.825927           92.776938             1.520474   \n",
      "min      -1.000000     0.000000            0.000000             0.000000   \n",
      "25%       0.000000     0.000000            0.000000             0.000000   \n",
      "50%       0.000000     0.000000            0.140000             0.000000   \n",
      "75%       2.000000     0.000000            1.860000             0.000000   \n",
      "max    1692.000000    23.000000         1311.000000            15.000000   \n",
      "\n",
      "       Afectados_Acumulados  Muertos_Acumulados  \n",
      "count           2925.000000         2925.000000  \n",
      "mean             433.154872           13.175726  \n",
      "std             2195.024474           52.022921  \n",
      "min                0.000000            0.000000  \n",
      "25%                1.000000            0.000000  \n",
      "50%               15.000000            0.000000  \n",
      "75%              100.000000            4.000000  \n",
      "max            27760.000000          538.000000   \n",
      "\n",
      "indice_mortalidad\n",
      "         Infectados        Muertos   Recuperados  \\\n",
      "count  4.000000e+00       4.000000  4.000000e+00   \n",
      "mean   8.049538e+05   48166.500000  3.619068e+05   \n",
      "std    1.218225e+06   55407.075111  4.895671e+05   \n",
      "min    5.774400e+04    1217.000000  2.013400e+04   \n",
      "25%    1.946685e+05   21561.500000  1.178155e+05   \n",
      "50%    2.680800e+05   31540.500000  1.696335e+05   \n",
      "75%    8.783652e+05   58145.500000  4.137248e+05   \n",
      "max    2.625911e+06  128368.000000  1.088226e+06   \n",
      "\n",
      "       Diferencia Infectados respecto día anterior mismo país  \\\n",
      "count                                           4.000000        \n",
      "mean                                        22006.250000        \n",
      "std                                         27233.850032        \n",
      "min                                           174.000000        \n",
      "25%                                           269.250000        \n",
      "50%                                         15620.000000        \n",
      "75%                                         37357.000000        \n",
      "max                                         56611.000000        \n",
      "\n",
      "       Diferencia Muertos respecto día anterior mismo país  \\\n",
      "count                                           4.000000     \n",
      "mean                                          357.500000     \n",
      "std                                           559.881833     \n",
      "min                                             2.000000     \n",
      "25%                                            17.000000     \n",
      "50%                                           122.000000     \n",
      "75%                                           462.500000     \n",
      "max                                          1184.000000     \n",
      "\n",
      "       Diferencia Recuperados respecto día anterior mismo país  \n",
      "count                                           4.000000        \n",
      "mean                                         7451.250000        \n",
      "std                                          9451.471574        \n",
      "min                                             0.000000        \n",
      "25%                                           230.250000        \n",
      "50%                                          4908.000000        \n",
      "75%                                         12129.000000        \n",
      "max                                         19989.000000         \n",
      "\n",
      "amba\n",
      "         Afectados  Afectados_Promedio\n",
      "count   117.000000          117.000000\n",
      "mean    435.111111          375.572650\n",
      "std     614.786826          521.805392\n",
      "min       0.000000            0.000000\n",
      "25%      44.000000           43.000000\n",
      "50%     106.000000          100.000000\n",
      "75%     681.000000          641.000000\n",
      "max    2747.000000         2138.000000 \n",
      "\n",
      "factor_duplicidad_total_infectados_amba\n",
      "       factor_de_crecimiento  duplicacion\n",
      "count              99.000000    99.000000\n",
      "mean                1.098886    10.964104\n",
      "std                 0.086798     4.716628\n",
      "min                 1.038456     1.838547\n",
      "25%                 1.049793     7.645911\n",
      "50%                 1.056743    12.558998\n",
      "75%                 1.095639    14.264570\n",
      "max                 1.457916    18.368889 \n",
      "\n"
     ]
    }
   ],
   "source": [
    "for dato in datos_json:\n",
    "  print(dato['str'])\n",
    "  print(dato['df'].describe(), '\\n')"
   ]
  },
  {
   "cell_type": "markdown",
   "metadata": {
    "colab_type": "text",
    "id": "SwwYB3uaVcjz"
   },
   "source": [
    "Este nos permite apreciar que hay observaciones con valores negativos para variables nonegativas, por ejemplo en la variable ```Infectados actuales``` del marco de datos ```totales_provincias_full```, o la variable ```Afectados``` en el marco de datos ```totales_provincias_por_dia```. Tenemos que averiguar por qué sucede esto."
   ]
  },
  {
   "cell_type": "code",
   "execution_count": 81,
   "metadata": {
    "colab": {
     "base_uri": "https://localhost:8080/",
     "height": 115
    },
    "colab_type": "code",
    "executionInfo": {
     "elapsed": 4051,
     "status": "ok",
     "timestamp": 1593297835376,
     "user": {
      "displayName": "Pablo Brianese",
      "photoUrl": "",
      "userId": "13690379485214446068"
     },
     "user_tz": 180
    },
    "id": "9-yTyaKFodVD",
    "outputId": "ac0834d9-4125-44fc-d387-342a304e45da"
   },
   "outputs": [
    {
     "name": "stdout",
     "output_type": "stream",
     "text": [
      "totales_provincias_full \n",
      " Infectados actuales -6897 \n",
      "\n",
      "totales_provincias_por_dia \n",
      " Afectados -1 \n",
      "\n"
     ]
    }
   ],
   "source": [
    "# Primero ubicamos las variables numéricas en las que hay valores negativos\n",
    "datos_val_neg = []\n",
    "for dato in datos_json:\n",
    "  # Marco de datos\n",
    "  nombre = dato['str']\n",
    "  df = dato['df']\n",
    "  # En este conjunto de datos hay variables con valores negativos? 0 o 1\n",
    "  valor_testigo = 0\n",
    "\n",
    "  # Exploración de las variables\n",
    "  variables_numericas = list(\n",
    "    df.select_dtypes(include = [np.number]).columns\n",
    "  )\n",
    "  for variable in variables_numericas:\n",
    "    minimo = min(df[variable])\n",
    "    if minimo < 0:\n",
    "      # Actualización del valor testigo\n",
    "      valor_testigo = 1\n",
    "      # Informe\n",
    "      print(\n",
    "          nombre, '\\n',\n",
    "          variable, minimo, '\\n'\n",
    "      )\n",
    "\n",
    "  if valor_testigo == 1:\n",
    "    datos_val_neg.append(dato)"
   ]
  },
  {
   "cell_type": "code",
   "execution_count": 82,
   "metadata": {
    "colab": {
     "base_uri": "https://localhost:8080/",
     "height": 33
    },
    "colab_type": "code",
    "executionInfo": {
     "elapsed": 4046,
     "status": "ok",
     "timestamp": 1593297835378,
     "user": {
      "displayName": "Pablo Brianese",
      "photoUrl": "",
      "userId": "13690379485214446068"
     },
     "user_tz": 180
    },
    "id": "IrZt5VkKZKXL",
    "outputId": "791378a8-7e7d-4158-b9db-fd7b86d75e6b"
   },
   "outputs": [
    {
     "name": "stdout",
     "output_type": "stream",
     "text": [
      "totales_provincias_full\n"
     ]
    }
   ],
   "source": [
    "# Seleccionamos el primer conjunto de datos con valores negativos\n",
    "print(\n",
    "    datos_val_neg[0]['str']\n",
    ")\n",
    "df = datos_val_neg[0]['df']"
   ]
  },
  {
   "cell_type": "code",
   "execution_count": 83,
   "metadata": {
    "colab": {
     "base_uri": "https://localhost:8080/",
     "height": 191
    },
    "colab_type": "code",
    "executionInfo": {
     "elapsed": 4041,
     "status": "ok",
     "timestamp": 1593297835380,
     "user": {
      "displayName": "Pablo Brianese",
      "photoUrl": "",
      "userId": "13690379485214446068"
     },
     "user_tz": 180
    },
    "id": "cuD1IB9LRHlA",
    "outputId": "1907962b-f34b-461b-96da-6be586edca0e"
   },
   "outputs": [
    {
     "data": {
      "text/html": [
       "<div>\n",
       "<style scoped>\n",
       "    .dataframe tbody tr th:only-of-type {\n",
       "        vertical-align: middle;\n",
       "    }\n",
       "\n",
       "    .dataframe tbody tr th {\n",
       "        vertical-align: top;\n",
       "    }\n",
       "\n",
       "    .dataframe thead th {\n",
       "        text-align: right;\n",
       "    }\n",
       "</style>\n",
       "<table border=\"1\" class=\"dataframe\">\n",
       "  <thead>\n",
       "    <tr style=\"text-align: right;\">\n",
       "      <th></th>\n",
       "      <th>Provincia</th>\n",
       "      <th>provincia-key</th>\n",
       "      <th>Afectados</th>\n",
       "      <th>Muertos</th>\n",
       "      <th>Recuperados</th>\n",
       "      <th>Infectados actuales</th>\n",
       "      <th>ultima-actualizacion</th>\n",
       "    </tr>\n",
       "  </thead>\n",
       "  <tbody>\n",
       "    <tr>\n",
       "      <th>0</th>\n",
       "      <td>Chubut</td>\n",
       "      <td>chubut</td>\n",
       "      <td>114</td>\n",
       "      <td>1</td>\n",
       "      <td>0</td>\n",
       "      <td>113</td>\n",
       "      <td>2020-06-27</td>\n",
       "    </tr>\n",
       "    <tr>\n",
       "      <th>1</th>\n",
       "      <td>Córdoba</td>\n",
       "      <td>cordoba</td>\n",
       "      <td>630</td>\n",
       "      <td>38</td>\n",
       "      <td>93</td>\n",
       "      <td>499</td>\n",
       "      <td>2020-06-27</td>\n",
       "    </tr>\n",
       "    <tr>\n",
       "      <th>2</th>\n",
       "      <td>Corrientes</td>\n",
       "      <td>corrientes</td>\n",
       "      <td>115</td>\n",
       "      <td>0</td>\n",
       "      <td>34</td>\n",
       "      <td>81</td>\n",
       "      <td>2020-06-27</td>\n",
       "    </tr>\n",
       "    <tr>\n",
       "      <th>3</th>\n",
       "      <td>Entre Ríos</td>\n",
       "      <td>entre-rios</td>\n",
       "      <td>249</td>\n",
       "      <td>0</td>\n",
       "      <td>17</td>\n",
       "      <td>232</td>\n",
       "      <td>2020-06-27</td>\n",
       "    </tr>\n",
       "    <tr>\n",
       "      <th>4</th>\n",
       "      <td>Formosa</td>\n",
       "      <td>formosa</td>\n",
       "      <td>71</td>\n",
       "      <td>0</td>\n",
       "      <td>0</td>\n",
       "      <td>71</td>\n",
       "      <td>2020-06-27</td>\n",
       "    </tr>\n",
       "  </tbody>\n",
       "</table>\n",
       "</div>"
      ],
      "text/plain": [
       "    Provincia provincia-key  Afectados  Muertos  Recuperados  \\\n",
       "0      Chubut        chubut        114        1            0   \n",
       "1     Córdoba       cordoba        630       38           93   \n",
       "2  Corrientes    corrientes        115        0           34   \n",
       "3  Entre Ríos    entre-rios        249        0           17   \n",
       "4     Formosa       formosa         71        0            0   \n",
       "\n",
       "   Infectados actuales ultima-actualizacion  \n",
       "0                  113           2020-06-27  \n",
       "1                  499           2020-06-27  \n",
       "2                   81           2020-06-27  \n",
       "3                  232           2020-06-27  \n",
       "4                   71           2020-06-27  "
      ]
     },
     "execution_count": 83,
     "metadata": {},
     "output_type": "execute_result"
    }
   ],
   "source": [
    "df.head()"
   ]
  },
  {
   "cell_type": "code",
   "execution_count": 84,
   "metadata": {
    "colab": {
     "base_uri": "https://localhost:8080/",
     "height": 191
    },
    "colab_type": "code",
    "executionInfo": {
     "elapsed": 4035,
     "status": "ok",
     "timestamp": 1593297835381,
     "user": {
      "displayName": "Pablo Brianese",
      "photoUrl": "",
      "userId": "13690379485214446068"
     },
     "user_tz": 180
    },
    "id": "QYQ2LdFDRPHE",
    "outputId": "a18e6ccf-1c25-45ac-9290-7117c626c48b"
   },
   "outputs": [
    {
     "data": {
      "text/html": [
       "<div>\n",
       "<style scoped>\n",
       "    .dataframe tbody tr th:only-of-type {\n",
       "        vertical-align: middle;\n",
       "    }\n",
       "\n",
       "    .dataframe tbody tr th {\n",
       "        vertical-align: top;\n",
       "    }\n",
       "\n",
       "    .dataframe thead th {\n",
       "        text-align: right;\n",
       "    }\n",
       "</style>\n",
       "<table border=\"1\" class=\"dataframe\">\n",
       "  <thead>\n",
       "    <tr style=\"text-align: right;\">\n",
       "      <th></th>\n",
       "      <th>Provincia</th>\n",
       "      <th>provincia-key</th>\n",
       "      <th>Afectados</th>\n",
       "      <th>Muertos</th>\n",
       "      <th>Recuperados</th>\n",
       "      <th>Infectados actuales</th>\n",
       "      <th>ultima-actualizacion</th>\n",
       "    </tr>\n",
       "  </thead>\n",
       "  <tbody>\n",
       "    <tr>\n",
       "      <th>20</th>\n",
       "      <td>Sin definir</td>\n",
       "      <td>sin-definir</td>\n",
       "      <td>0</td>\n",
       "      <td>3</td>\n",
       "      <td>6894</td>\n",
       "      <td>-6897</td>\n",
       "      <td>2020-06-27</td>\n",
       "    </tr>\n",
       "    <tr>\n",
       "      <th>23</th>\n",
       "      <td>Catamarca</td>\n",
       "      <td>catamarca</td>\n",
       "      <td>0</td>\n",
       "      <td>0</td>\n",
       "      <td>0</td>\n",
       "      <td>0</td>\n",
       "      <td>2020-06-27</td>\n",
       "    </tr>\n",
       "    <tr>\n",
       "      <th>6</th>\n",
       "      <td>La Pampa</td>\n",
       "      <td>la-pampa</td>\n",
       "      <td>7</td>\n",
       "      <td>0</td>\n",
       "      <td>5</td>\n",
       "      <td>2</td>\n",
       "      <td>2020-06-27</td>\n",
       "    </tr>\n",
       "    <tr>\n",
       "      <th>16</th>\n",
       "      <td>San Luis</td>\n",
       "      <td>san-luis</td>\n",
       "      <td>11</td>\n",
       "      <td>0</td>\n",
       "      <td>7</td>\n",
       "      <td>4</td>\n",
       "      <td>2020-06-27</td>\n",
       "    </tr>\n",
       "    <tr>\n",
       "      <th>17</th>\n",
       "      <td>San Juan</td>\n",
       "      <td>san-juan</td>\n",
       "      <td>8</td>\n",
       "      <td>0</td>\n",
       "      <td>2</td>\n",
       "      <td>6</td>\n",
       "      <td>2020-06-27</td>\n",
       "    </tr>\n",
       "  </tbody>\n",
       "</table>\n",
       "</div>"
      ],
      "text/plain": [
       "      Provincia provincia-key  Afectados  Muertos  Recuperados  \\\n",
       "20  Sin definir   sin-definir          0        3         6894   \n",
       "23    Catamarca     catamarca          0        0            0   \n",
       "6      La Pampa      la-pampa          7        0            5   \n",
       "16     San Luis      san-luis         11        0            7   \n",
       "17     San Juan      san-juan          8        0            2   \n",
       "\n",
       "    Infectados actuales ultima-actualizacion  \n",
       "20                -6897           2020-06-27  \n",
       "23                    0           2020-06-27  \n",
       "6                     2           2020-06-27  \n",
       "16                    4           2020-06-27  \n",
       "17                    6           2020-06-27  "
      ]
     },
     "execution_count": 84,
     "metadata": {},
     "output_type": "execute_result"
    }
   ],
   "source": [
    "df.sort_values('Infectados actuales').head()"
   ]
  },
  {
   "cell_type": "code",
   "execution_count": 85,
   "metadata": {
    "colab": {},
    "colab_type": "code",
    "id": "t5K0m4iVJwx4"
   },
   "outputs": [],
   "source": [
    "# La columna Afectados es igual a la suma de las columnas \n",
    "# Muertos, Recuperados, Infectados actuales\n",
    "col = df['Afectados']\n",
    "suma = df['Muertos'] + df['Recuperados'] + df['Infectados actuales']\n",
    "assert col.all() == suma.all()"
   ]
  },
  {
   "cell_type": "markdown",
   "metadata": {
    "colab_type": "text",
    "id": "weLyQ9P2R8PN"
   },
   "source": [
    "Luego, podemos explicar los valores negativos de la variable ```Infectados actuales``` como una consecuencia indeseada de definirla como ```Afectados - Muertos - Recuperados```. Elegimos transformar este valor negativo a un 0, y transformar el valor de ```Afectados``` a ```Muertos + Recuperados``` para preservar la identidad que verificamos."
   ]
  },
  {
   "cell_type": "code",
   "execution_count": 86,
   "metadata": {
    "colab": {},
    "colab_type": "code",
    "id": "U5ntosw_SlDC"
   },
   "outputs": [],
   "source": [
    "df.at[20, 'Infectados actuales'] = 0\n",
    "df.at[20, 'Afectados'] = df.at[20, 'Muertos'] + df.at[20, 'Recuperados']"
   ]
  },
  {
   "cell_type": "markdown",
   "metadata": {
    "colab_type": "text",
    "id": "tMXdMkf-QiZQ"
   },
   "source": [
    "INSPECCIÓN DE LOS CONJUNTOS DE DATOS"
   ]
  },
  {
   "cell_type": "markdown",
   "metadata": {
    "colab_type": "text",
    "id": "9Ee5zP9PRDqk"
   },
   "source": [
    "ANÁLISIS EXPLORATORIO DE DATOS"
   ]
  },
  {
   "cell_type": "code",
   "execution_count": 87,
   "metadata": {
    "colab": {
     "base_uri": "https://localhost:8080/",
     "height": 207
    },
    "colab_type": "code",
    "executionInfo": {
     "elapsed": 4022,
     "status": "ok",
     "timestamp": 1593297835386,
     "user": {
      "displayName": "Pablo Brianese",
      "photoUrl": "",
      "userId": "13690379485214446068"
     },
     "user_tz": 180
    },
    "id": "ZKq6Pm4VJwx1",
    "outputId": "48eef9d7-2340-4c46-f69a-5952c35a7acf"
   },
   "outputs": [
    {
     "name": "stdout",
     "output_type": "stream",
     "text": [
      "totales_provincias_full\n"
     ]
    },
    {
     "data": {
      "text/html": [
       "<div>\n",
       "<style scoped>\n",
       "    .dataframe tbody tr th:only-of-type {\n",
       "        vertical-align: middle;\n",
       "    }\n",
       "\n",
       "    .dataframe tbody tr th {\n",
       "        vertical-align: top;\n",
       "    }\n",
       "\n",
       "    .dataframe thead th {\n",
       "        text-align: right;\n",
       "    }\n",
       "</style>\n",
       "<table border=\"1\" class=\"dataframe\">\n",
       "  <thead>\n",
       "    <tr style=\"text-align: right;\">\n",
       "      <th></th>\n",
       "      <th>Provincia</th>\n",
       "      <th>provincia-key</th>\n",
       "      <th>Afectados</th>\n",
       "      <th>Muertos</th>\n",
       "      <th>Recuperados</th>\n",
       "      <th>Infectados actuales</th>\n",
       "      <th>ultima-actualizacion</th>\n",
       "    </tr>\n",
       "  </thead>\n",
       "  <tbody>\n",
       "    <tr>\n",
       "      <th>0</th>\n",
       "      <td>Chubut</td>\n",
       "      <td>chubut</td>\n",
       "      <td>114</td>\n",
       "      <td>1</td>\n",
       "      <td>0</td>\n",
       "      <td>113</td>\n",
       "      <td>2020-06-27</td>\n",
       "    </tr>\n",
       "    <tr>\n",
       "      <th>1</th>\n",
       "      <td>Córdoba</td>\n",
       "      <td>cordoba</td>\n",
       "      <td>630</td>\n",
       "      <td>38</td>\n",
       "      <td>93</td>\n",
       "      <td>499</td>\n",
       "      <td>2020-06-27</td>\n",
       "    </tr>\n",
       "    <tr>\n",
       "      <th>2</th>\n",
       "      <td>Corrientes</td>\n",
       "      <td>corrientes</td>\n",
       "      <td>115</td>\n",
       "      <td>0</td>\n",
       "      <td>34</td>\n",
       "      <td>81</td>\n",
       "      <td>2020-06-27</td>\n",
       "    </tr>\n",
       "    <tr>\n",
       "      <th>3</th>\n",
       "      <td>Entre Ríos</td>\n",
       "      <td>entre-rios</td>\n",
       "      <td>249</td>\n",
       "      <td>0</td>\n",
       "      <td>17</td>\n",
       "      <td>232</td>\n",
       "      <td>2020-06-27</td>\n",
       "    </tr>\n",
       "    <tr>\n",
       "      <th>4</th>\n",
       "      <td>Formosa</td>\n",
       "      <td>formosa</td>\n",
       "      <td>71</td>\n",
       "      <td>0</td>\n",
       "      <td>0</td>\n",
       "      <td>71</td>\n",
       "      <td>2020-06-27</td>\n",
       "    </tr>\n",
       "  </tbody>\n",
       "</table>\n",
       "</div>"
      ],
      "text/plain": [
       "    Provincia provincia-key  Afectados  Muertos  Recuperados  \\\n",
       "0      Chubut        chubut        114        1            0   \n",
       "1     Córdoba       cordoba        630       38           93   \n",
       "2  Corrientes    corrientes        115        0           34   \n",
       "3  Entre Ríos    entre-rios        249        0           17   \n",
       "4     Formosa       formosa         71        0            0   \n",
       "\n",
       "   Infectados actuales ultima-actualizacion  \n",
       "0                  113           2020-06-27  \n",
       "1                  499           2020-06-27  \n",
       "2                   81           2020-06-27  \n",
       "3                  232           2020-06-27  \n",
       "4                   71           2020-06-27  "
      ]
     },
     "execution_count": 87,
     "metadata": {},
     "output_type": "execute_result"
    }
   ],
   "source": [
    "# totales_provincias_full\n",
    "print(\n",
    "    datos_json[0]['str']\n",
    ")\n",
    "df = datos_json[0]['df']\n",
    "df.head()"
   ]
  },
  {
   "cell_type": "markdown",
   "metadata": {
    "colab_type": "text",
    "id": "Y8NCnr9I6Bou"
   },
   "source": [
    "df"
   ]
  },
  {
   "cell_type": "code",
   "execution_count": 88,
   "metadata": {
    "colab": {
     "base_uri": "https://localhost:8080/",
     "height": 661
    },
    "colab_type": "code",
    "executionInfo": {
     "elapsed": 60860,
     "status": "error",
     "timestamp": 1593298319836,
     "user": {
      "displayName": "Pablo Brianese",
      "photoUrl": "",
      "userId": "13690379485214446068"
     },
     "user_tz": 180
    },
    "id": "iMp3vibXJwx9",
    "outputId": "077d39b2-560d-4c98-94bf-5d0d26613448"
   },
   "outputs": [
    {
     "name": "stdout",
     "output_type": "stream",
     "text": [
      "['Afectados', 'Muertos', 'Recuperados', 'Infectados actuales']\n"
     ]
    },
    {
     "data": {
      "image/png": "[encoded data removed]",
      "text/plain": [
       "<Figure size 432x288 with 1 Axes>"
      ]
     },
     "metadata": {},
     "output_type": "display_data"
    }
   ],
   "source": [
    "# Esta variable se puede modificar\n",
    "# para explorar el marco de datos:\n",
    "variable = 'Afectados'\n",
    "\n",
    "# Los posibles valores son\n",
    "print(\n",
    "    list(\n",
    "    df.select_dtypes(include = [np.number]).columns\n",
    "    )\n",
    ")\n",
    "\n",
    "fig, ax = plt.subplots()\n",
    "\n",
    "ax.set(xscale = 'log')\n",
    "ax = sns.barplot(\n",
    "    x = variable,\n",
    "    y = 'Provincia',\n",
    "    data = df,\n",
    "    order = list(df.sort_values(variable)['Provincia']),\n",
    ")\n",
    "\n",
    "ax.set_title(\n",
    "    variable + ' por Provincia,' + ' a la fecha ' +\n",
    "    df['ultima-actualizacion'][0].strftime('%d/%m/%Y')\n",
    ")\n",
    "\n",
    "nombre_archivo = variable.lower().replace(' ', '_') + '_por_provincia.png'\n",
    "#plt.savefig(nombre_archivo, bbox_inches = 'tight')  # Descomentar para guardar figura\n",
    "plt.show()"
   ]
  },
  {
   "cell_type": "code",
   "execution_count": 89,
   "metadata": {
    "colab": {
     "base_uri": "https://localhost:8080/",
     "height": 215
    },
    "colab_type": "code",
    "executionInfo": {
     "elapsed": 6336,
     "status": "ok",
     "timestamp": 1593297837721,
     "user": {
      "displayName": "Pablo Brianese",
      "photoUrl": "",
      "userId": "13690379485214446068"
     },
     "user_tz": 180
    },
    "id": "OgXxLQVoJwyB",
    "outputId": "4851f629-7e35-485d-d456-0e8d8a83ee7d",
    "scrolled": true
   },
   "outputs": [
    {
     "name": "stdout",
     "output_type": "stream",
     "text": [
      "totales_provincias_por_dia\n"
     ]
    },
    {
     "data": {
      "text/html": [
       "<div>\n",
       "<style scoped>\n",
       "    .dataframe tbody tr th:only-of-type {\n",
       "        vertical-align: middle;\n",
       "    }\n",
       "\n",
       "    .dataframe tbody tr th {\n",
       "        vertical-align: top;\n",
       "    }\n",
       "\n",
       "    .dataframe thead th {\n",
       "        text-align: right;\n",
       "    }\n",
       "</style>\n",
       "<table border=\"1\" class=\"dataframe\">\n",
       "  <thead>\n",
       "    <tr style=\"text-align: right;\">\n",
       "      <th></th>\n",
       "      <th>Fecha</th>\n",
       "      <th>Afectados</th>\n",
       "      <th>Fallecidos</th>\n",
       "      <th>Provincia</th>\n",
       "      <th>Afectados_Promedio</th>\n",
       "      <th>Fallecidos_Promedio</th>\n",
       "      <th>Afectados_Acumulados</th>\n",
       "      <th>Muertos_Acumulados</th>\n",
       "    </tr>\n",
       "  </thead>\n",
       "  <tbody>\n",
       "    <tr>\n",
       "      <th>0</th>\n",
       "      <td>2020-03-03</td>\n",
       "      <td>0</td>\n",
       "      <td>0</td>\n",
       "      <td>Chubut</td>\n",
       "      <td>0.0</td>\n",
       "      <td>0.0</td>\n",
       "      <td>0</td>\n",
       "      <td>0</td>\n",
       "    </tr>\n",
       "    <tr>\n",
       "      <th>1</th>\n",
       "      <td>2020-03-03</td>\n",
       "      <td>0</td>\n",
       "      <td>0</td>\n",
       "      <td>Córdoba</td>\n",
       "      <td>0.0</td>\n",
       "      <td>0.0</td>\n",
       "      <td>0</td>\n",
       "      <td>0</td>\n",
       "    </tr>\n",
       "    <tr>\n",
       "      <th>2</th>\n",
       "      <td>2020-03-03</td>\n",
       "      <td>0</td>\n",
       "      <td>0</td>\n",
       "      <td>Corrientes</td>\n",
       "      <td>0.0</td>\n",
       "      <td>0.0</td>\n",
       "      <td>0</td>\n",
       "      <td>0</td>\n",
       "    </tr>\n",
       "    <tr>\n",
       "      <th>3</th>\n",
       "      <td>2020-03-03</td>\n",
       "      <td>0</td>\n",
       "      <td>0</td>\n",
       "      <td>Entre Ríos</td>\n",
       "      <td>0.0</td>\n",
       "      <td>0.0</td>\n",
       "      <td>0</td>\n",
       "      <td>0</td>\n",
       "    </tr>\n",
       "    <tr>\n",
       "      <th>4</th>\n",
       "      <td>2020-03-03</td>\n",
       "      <td>0</td>\n",
       "      <td>0</td>\n",
       "      <td>Formosa</td>\n",
       "      <td>0.0</td>\n",
       "      <td>0.0</td>\n",
       "      <td>0</td>\n",
       "      <td>0</td>\n",
       "    </tr>\n",
       "  </tbody>\n",
       "</table>\n",
       "</div>"
      ],
      "text/plain": [
       "       Fecha  Afectados  Fallecidos   Provincia  Afectados_Promedio  \\\n",
       "0 2020-03-03          0           0      Chubut                 0.0   \n",
       "1 2020-03-03          0           0     Córdoba                 0.0   \n",
       "2 2020-03-03          0           0  Corrientes                 0.0   \n",
       "3 2020-03-03          0           0  Entre Ríos                 0.0   \n",
       "4 2020-03-03          0           0     Formosa                 0.0   \n",
       "\n",
       "   Fallecidos_Promedio  Afectados_Acumulados  Muertos_Acumulados  \n",
       "0                  0.0                     0                   0  \n",
       "1                  0.0                     0                   0  \n",
       "2                  0.0                     0                   0  \n",
       "3                  0.0                     0                   0  \n",
       "4                  0.0                     0                   0  "
      ]
     },
     "execution_count": 89,
     "metadata": {},
     "output_type": "execute_result"
    }
   ],
   "source": [
    "# totales_provincias_por_dia\n",
    "print(datos_json[1]['str'])\n",
    "df = datos_json[1]['df']\n",
    "df.head()"
   ]
  },
  {
   "cell_type": "code",
   "execution_count": 90,
   "metadata": {
    "colab": {},
    "colab_type": "code",
    "id": "DphwybIk0u9X",
    "outputId": "cdab51fb-a77e-4c6d-c13b-9681269d40bb"
   },
   "outputs": [
    {
     "name": "stdout",
     "output_type": "stream",
     "text": [
      "Provincia: \n",
      " ['Buenos Aires', 'CABA', 'Catamarca', 'Chaco', 'Chubut', 'Corrientes', 'Córdoba', 'Entre Ríos', 'Formosa', 'Jujuy', 'La Pampa', 'La Rioja', 'Mendoza', 'Misiones', 'Neuquén', 'Río Negro', 'Salta', 'San Juan', 'San Luis', 'Santa Cruz', 'Santa Fe', 'Santiago del Estero', 'Sin definir', 'Tierra del Fuego', 'Tucumán']\n",
      "Variable: \n",
      " ['Afectados', 'Fallecidos', 'Afectados_Promedio', 'Fallecidos_Promedio', 'Afectados_Acumulados', 'Muertos_Acumulados']\n"
     ]
    }
   ],
   "source": [
    "# Provincias en el conjunto de datos\n",
    "print(\n",
    "    'Provincia:', '\\n',\n",
    "    list(\n",
    "    df['Provincia'].drop_duplicates().sort_values()\n",
    "    )\n",
    ")\n",
    " \n",
    "# Variables en el conjunto de datos\n",
    "print(\n",
    "    'Variable:', '\\n',\n",
    "    list(\n",
    "    df.select_dtypes(include = [np.number]).columns\n",
    "    )\n",
    ")"
   ]
  },
  {
   "cell_type": "code",
   "execution_count": 91,
   "metadata": {
    "colab": {
     "base_uri": "https://localhost:8080/",
     "height": 413
    },
    "colab_type": "code",
    "executionInfo": {
     "elapsed": 1328,
     "status": "ok",
     "timestamp": 1593298234996,
     "user": {
      "displayName": "Pablo Brianese",
      "photoUrl": "",
      "userId": "13690379485214446068"
     },
     "user_tz": 180
    },
    "id": "XqV88A4LJwyJ",
    "outputId": "4b8d26b8-24bc-4a6f-9cda-b6a21f6a3c88"
   },
   "outputs": [
    {
     "data": {
      "image/png": "[encoded data removed]",
      "text/plain": [
       "<Figure size 432x288 with 1 Axes>"
      ]
     },
     "metadata": {},
     "output_type": "display_data"
    }
   ],
   "source": [
    "# Afectados y Muertos Acumulados en la Provincia de Buenos Aires\n",
    "fig, ax = plt.subplots()\n",
    "\n",
    "ax.set(yscale = 'log')\n",
    "ax = sns.lineplot(\n",
    "    x = 'Fecha',\n",
    "    y = 'Afectados_Acumulados',\n",
    "    data = df.loc[df['Provincia'] == 'Buenos Aires'],\n",
    "    label = 'Afectados Acumulados',\n",
    ")\n",
    "\n",
    "ax = sns.lineplot(\n",
    "    x = 'Fecha',\n",
    "    y = 'Muertos_Acumulados',\n",
    "    data = df.loc[df['Provincia'] == 'Buenos Aires'],\n",
    "    label = 'Muertos Acumulados',\n",
    ")\n",
    "\n",
    "ax.set_title(\n",
    "    'Afectados y Muertos Acumulados' + '\\n' +\n",
    "    'en la Provincia de Buenos Aires'\n",
    ")\n",
    "\n",
    "ax.set_ylabel('Número')\n",
    "\n",
    "plt.setp(ax.get_xticklabels(), rotation=45)\n",
    "\n",
    "nombre_archivo = 'afectados_acumulados' + '&' + \\\n",
    "                 'muertos_acumulados' + '_en_' + \\\n",
    "                 'buenos_aires' + '.png'\n",
    "plt.savefig(nombre_archivo, bbox_inches = 'tight')\n",
    "\n",
    "plt.show()"
   ]
  },
  {
   "cell_type": "code",
   "execution_count": 92,
   "metadata": {
    "colab": {},
    "colab_type": "code",
    "id": "_yUZsFoX0u9y",
    "outputId": "604c498c-6176-468d-a6d4-e7054925e2d6"
   },
   "outputs": [
    {
     "data": {
      "image/png": "[encoded data removed]",
      "text/plain": [
       "<Figure size 432x288 with 1 Axes>"
      ]
     },
     "metadata": {},
     "output_type": "display_data"
    }
   ],
   "source": [
    "# Afectados y Muertos Acumulados en la Ciudad de Buenos Aires\n",
    "provincia = 'CABA'\n",
    "variable1 = 'Afectados_Acumulados'\n",
    "variable2 = 'Muertos_Acumulados'\n",
    "\n",
    "fig, ax = plt.subplots()\n",
    "\n",
    "ax.set(yscale = 'log')\n",
    "ax = sns.lineplot(\n",
    "    x = 'Fecha',\n",
    "    y = 'Afectados_Acumulados',\n",
    "    data = df.loc[df['Provincia'] == 'CABA'],\n",
    "    label = 'Afectados Acumulados',\n",
    ")\n",
    "\n",
    "ax = sns.lineplot(\n",
    "    x = 'Fecha',\n",
    "    y = 'Muertos_Acumulados',\n",
    "    data = df.loc[df['Provincia'] == 'CABA'],\n",
    "    label = 'Muertos Acumulados',\n",
    ")\n",
    "\n",
    "ax.set_title(\n",
    "    'Afectados y Muertos Acumulados' + '\\n' +\n",
    "    'en la Ciudad Autónoma de Buenos Aires'\n",
    ")\n",
    "\n",
    "ax.set_ylabel('Número')\n",
    "plt.setp(ax.get_xticklabels(), rotation=45)\n",
    "\n",
    "nombre_archivo = 'afectados_acumulados' + '&' + \\\n",
    "                 'muertos_acumulados' + '_en_' + \\\n",
    "                 'caba' + '.png'\n",
    "plt.savefig(nombre_archivo, bbox_inches = 'tight')\n",
    "\n",
    "plt.show()"
   ]
  },
  {
   "cell_type": "code",
   "execution_count": 95,
   "metadata": {
    "colab": {},
    "colab_type": "code",
    "id": "HBEaSH1o0u9_"
   },
   "outputs": [],
   "source": [
    "# Creamos una nueva variable que registra el máximo valor de 'Afectados_Acumulados' por provincia\n",
    "for provincia in df['Provincia'].drop_duplicates():\n",
    "    prov_indice = (df['Provincia'] == provincia)\n",
    "    df.loc[prov_indice, 'Afectados_Acumulados_Máx'] = max(df.loc[prov_indice, 'Afectados_Acumulados'])\n",
    "\n",
    "df['Afectados_Acumulados_Máx'] = df['Afectados_Acumulados_Máx'].astype('int64')"
   ]
  },
  {
   "cell_type": "code",
   "execution_count": 99,
   "metadata": {},
   "outputs": [],
   "source": [
    "# Creamos una nueva variable que distingue entre \n",
    "# la Provincia de Buenos Aires, la Ciudad Autónoma de Buenos Aires\n",
    "# y el resto del país\n",
    "for provincia in df['Provincia'].drop_duplicates():\n",
    "    prov_indice = (df['Provincia'] == provincia)\n",
    "    df.loc[prov_indice, 'Buenos_Aires_P&C'] = df.loc[prov_indice, 'Provincia'].isin(['Buenos Aires', 'CABA'])"
   ]
  },
  {
   "cell_type": "code",
   "execution_count": 104,
   "metadata": {},
   "outputs": [
    {
     "data": {
      "image/png": "[encoded data removed]",
      "text/plain": [
       "<Figure size 432x288 with 1 Axes>"
      ]
     },
     "metadata": {},
     "output_type": "display_data"
    }
   ],
   "source": [
    "# La preponderancia de \n",
    "# la Provincia de Buenos Aires y de la Ciudad Autónoma de Buenos Aires\n",
    "# en el número de Afectados por la enfermedad de Coronavirus\n",
    "fig, ax = plt.subplots()\n",
    " \n",
    "sns.lineplot(\n",
    "    x = 'Fecha',\n",
    "    y = 'Afectados_Acumulados',\n",
    "    hue = 'Afectados_Acumulados_Máx',\n",
    "    size = 'Afectados_Acumulados_Máx',\n",
    "    style = 'Buenos_Aires_P&C',\n",
    "    data = df,\n",
    ")\n",
    " \n",
    "ax.set_title(\n",
    "    'Preponderancia dentro de los Afectados\\n' +\n",
    "    'de la Provincia de Buenos Aires\\n' +\n",
    "    'y la Ciudad Autónoma de Buenos Aires'\n",
    ")\n",
    " \n",
    "ax.set_ylabel('Afectados Acumulados')\n",
    "\n",
    "plt.setp(ax.get_xticklabels(), rotation = 45)\n",
    "\n",
    "nombre_archivo = 'preponderancia_buenos_aires_p&c.png'\n",
    "plt.savefig(nombre_archivo, bbox_inches = 'tight')\n",
    "\n",
    "plt.show()"
   ]
  },
  {
   "cell_type": "code",
   "execution_count": null,
   "metadata": {},
   "outputs": [],
   "source": [
    "# llevar leyenda al costado\n",
    "#plt.legend(\n",
    "#    bbox_to_anchor = (1.05, 1 + 0.5)\n",
    "#)"
   ]
  }
 ],
 "metadata": {
  "colab": {
   "collapsed_sections": [],
   "name": "coronavirus2019.ipynb",
   "provenance": []
  },
  "kernelspec": {
   "display_name": "Python 3",
   "language": "python",
   "name": "python3"
  },
  "language_info": {
   "codemirror_mode": {
    "name": "ipython",
    "version": 3
   },
   "file_extension": ".py",
   "mimetype": "text/x-python",
   "name": "python",
   "nbconvert_exporter": "python",
   "pygments_lexer": "ipython3",
   "version": "3.7.6"
  }
 },
 "nbformat": 4,
 "nbformat_minor": 4
}
